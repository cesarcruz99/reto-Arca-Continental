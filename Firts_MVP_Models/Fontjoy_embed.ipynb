{
  "nbformat": 4,
  "nbformat_minor": 0,
  "metadata": {
    "colab": {
      "provenance": []
    },
    "kernelspec": {
      "name": "python3",
      "display_name": "Python 3"
    },
    "language_info": {
      "name": "python"
    }
  },
  "cells": [
    {
      "cell_type": "code",
      "execution_count": 1,
      "metadata": {
        "id": "AyBFhUmdASS6"
      },
      "outputs": [],
      "source": [
        "from IPython.display import IFrame\n",
        "from PIL import Image, ImageDraw, ImageFont"
      ]
    },
    {
      "cell_type": "code",
      "source": [
        "iframe = IFrame(\"https://fontjoy.com/\", 2000,1000)\n",
        "iframe"
      ],
      "metadata": {
        "colab": {
          "base_uri": "https://localhost:8080/",
          "height": 1000
        },
        "id": "LC_tVX5NAa8h",
        "outputId": "e55b5b91-c717-423e-81a6-2b98d3c6a889"
      },
      "execution_count": 3,
      "outputs": [
        {
          "output_type": "execute_result",
          "data": {
            "text/plain": [
              "<IPython.lib.display.IFrame at 0x7fa4e5b223b0>"
            ],
            "text/html": [
              "\n",
              "        <iframe\n",
              "            width=\"2000\"\n",
              "            height=\"1000\"\n",
              "            src=\"https://fontjoy.com/\"\n",
              "            frameborder=\"0\"\n",
              "            allowfullscreen\n",
              "            \n",
              "        ></iframe>\n",
              "        "
            ]
          },
          "metadata": {},
          "execution_count": 3
        }
      ]
    }
  ]
}